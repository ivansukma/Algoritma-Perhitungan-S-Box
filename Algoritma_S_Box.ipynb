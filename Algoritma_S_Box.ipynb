{
  "nbformat": 4,
  "nbformat_minor": 0,
  "metadata": {
    "colab": {
      "name": "Algoritma_S-Box.ipynb",
      "provenance": [],
      "collapsed_sections": []
    },
    "kernelspec": {
      "name": "python3",
      "display_name": "Python 3"
    }
  },
  "cells": [
    {
      "cell_type": "markdown",
      "metadata": {
        "id": "5-Jk1wErkpWk"
      },
      "source": [
        "PC-1"
      ]
    },
    {
      "cell_type": "code",
      "metadata": {
        "id": "XR1ozIFDihYy"
      },
      "source": [
        "x = [56,48,40,32,24,16,8,0,57,49,41,33,25,17,\n",
        "     9,1,58,50,42,34,26,18,10,2,59,51,43,35]\n",
        "DO = \"Masukan 64/2 bit\"  # drop your number here\n",
        "for i in x:\n",
        "  print(DO[i], end='')"
      ],
      "execution_count": null,
      "outputs": []
    },
    {
      "cell_type": "code",
      "metadata": {
        "id": "aMYelQgXknuS"
      },
      "source": [
        "x = [62,54,46,38,30,22,14,6,61,53,45,37,29,21,\n",
        "     13,5,60,52,44,36,28,20,12,4,27,19,11,3]\n",
        "DO = \"Masukan 64/2 bit\"  # drop your number here\n",
        "for i in x:\n",
        "  print(DO[i], end='')"
      ],
      "execution_count": null,
      "outputs": []
    },
    {
      "cell_type": "markdown",
      "metadata": {
        "id": "N2SrUxn8lYjx"
      },
      "source": [
        "16 Putaran untuk C0 dan D0 (kemarin kelompokan masih manual)"
      ]
    },
    {
      "cell_type": "code",
      "metadata": {
        "id": "GWVX9mU9nDjJ"
      },
      "source": [
        "arrayGeser = [1,1,2,2,2,2,2,2,1,2,2,2,2,2,2,1]\n",
        "numberBinary = \"1234567890\"  # insert binary here\n",
        "def rotate(l, n):\n",
        "  return l[n:] + l[:n]\n",
        "for i in range(16):\n",
        "  print('C0/D0 Iterasi ke %i (geser %i kali): ' % (i+1, arrayGeser[i]))\n",
        "  rotateNumber = rotate(numberBinary,arrayGeser[i])\n",
        "  print(rotateNumber)"
      ],
      "execution_count": null,
      "outputs": []
    },
    {
      "cell_type": "markdown",
      "metadata": {
        "id": "mGGYx6TUlfhX"
      },
      "source": [
        "PC-2"
      ]
    },
    {
      "cell_type": "code",
      "metadata": {
        "id": "wh90bKQclg3n"
      },
      "source": [
        "x = [13,16,10,23,0,4,2,27,14,5,20,9\n",
        "    ,22,18,11,3,25,7,15,6,26,19,12,1]\n",
        "DO = \"Masukan 48/2 bit\"  # drop your number here\n",
        "for i in x:\n",
        "  print(DO[i], end='')"
      ],
      "execution_count": null,
      "outputs": []
    },
    {
      "cell_type": "code",
      "metadata": {
        "id": "s44hD79dlvX8"
      },
      "source": [
        "x = [40,51,30,36,46,54,29,39,50,44,32,47\n",
        "    ,43,48,38,55,33,52,45,41,49,35,28,31]\n",
        "DO = \"Masukan 48/2 bit\" # drop your number here\n",
        "for i in x:\n",
        "  print(DO[i], end='')"
      ],
      "execution_count": null,
      "outputs": []
    },
    {
      "cell_type": "markdown",
      "metadata": {
        "id": "nvWFycbdtOn6"
      },
      "source": [
        "Diubah ber 6 / Kalulator online juga bisa"
      ]
    },
    {
      "cell_type": "code",
      "metadata": {
        "id": "P5AJ6AxntVPG"
      },
      "source": [
        "binary_dummy = \"00101111 01010001 11011001 10000010 00010001 11100101\"  # 48 bit result from before\n",
        "binary_string = binary_dummy.split()\n",
        "for i in range(6):\n",
        "  decimal_representation = int(binary_string[i], 2)\n",
        "  hexadecimal_string = hex(decimal_representation)\n",
        "  print(str(hexadecimal_string.replace('0x','')).upper(), ' ',end='')"
      ],
      "execution_count": null,
      "outputs": []
    }
  ]
}